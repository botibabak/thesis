{
 "cells": [
  {
   "cell_type": "code",
   "execution_count": 1,
   "metadata": {},
   "outputs": [],
   "source": [
    "import numpy as np\n",
    "from numpy import mean, argmax\n",
    "import pandas as pd\n",
    "import matplotlib.pyplot as plt\n",
    "from sklearn.model_selection import train_test_split, cross_val_score\n",
    "from sklearn.ensemble import RandomForestClassifier\n",
    "from sklearn.linear_model import LogisticRegression\n",
    "from xgboost import XGBClassifier\n",
    "from sklearn.metrics import accuracy_score, confusion_matrix, classification_report, roc_auc_score, recall_score, precision_recall_curve, f1_score, auc, precision_score, roc_curve\n",
    "import time\n",
    "from imblearn.over_sampling import SMOTE\n",
    "from collections import Counter\n",
    "from imblearn.over_sampling import ADASYN\n",
    "from imblearn.combine import SMOTETomek\n",
    "from imblearn.combine import SMOTEENN\n",
    "\n",
    "import psutil\n",
    "import tracemalloc\n",
    "\n",
    "from matplotlib import pyplot\n",
    "from matplotlib.pyplot import figure\n",
    "\n",
    "import platform\n",
    "import cpuinfo"
   ]
  },
  {
   "cell_type": "code",
   "execution_count": 2,
   "metadata": {},
   "outputs": [
    {
     "data": {
      "text/html": [
       "<div>\n",
       "<style scoped>\n",
       "    .dataframe tbody tr th:only-of-type {\n",
       "        vertical-align: middle;\n",
       "    }\n",
       "\n",
       "    .dataframe tbody tr th {\n",
       "        vertical-align: top;\n",
       "    }\n",
       "\n",
       "    .dataframe thead th {\n",
       "        text-align: right;\n",
       "    }\n",
       "</style>\n",
       "<table border=\"1\" class=\"dataframe\">\n",
       "  <thead>\n",
       "    <tr style=\"text-align: right;\">\n",
       "      <th></th>\n",
       "      <th>FLAG</th>\n",
       "      <th>MEAN</th>\n",
       "      <th>STD</th>\n",
       "      <th>2014-01-01 00:00:00</th>\n",
       "      <th>2014-01-02 00:00:00</th>\n",
       "      <th>2014-01-03 00:00:00</th>\n",
       "      <th>2014-01-04 00:00:00</th>\n",
       "      <th>2014-01-05 00:00:00</th>\n",
       "      <th>2014-01-06 00:00:00</th>\n",
       "      <th>2014-01-07 00:00:00</th>\n",
       "      <th>...</th>\n",
       "      <th>2016-10-22 00:00:00</th>\n",
       "      <th>2016-10-23 00:00:00</th>\n",
       "      <th>2016-10-24 00:00:00</th>\n",
       "      <th>2016-10-25 00:00:00</th>\n",
       "      <th>2016-10-26 00:00:00</th>\n",
       "      <th>2016-10-27 00:00:00</th>\n",
       "      <th>2016-10-28 00:00:00</th>\n",
       "      <th>2016-10-29 00:00:00</th>\n",
       "      <th>2016-10-30 00:00:00</th>\n",
       "      <th>2016-10-31 00:00:00</th>\n",
       "    </tr>\n",
       "  </thead>\n",
       "  <tbody>\n",
       "    <tr>\n",
       "      <td>0</td>\n",
       "      <td>1</td>\n",
       "      <td>13.898342</td>\n",
       "      <td>8.843958</td>\n",
       "      <td>5.327215</td>\n",
       "      <td>5.161014</td>\n",
       "      <td>4.851788</td>\n",
       "      <td>5.053549</td>\n",
       "      <td>5.361211</td>\n",
       "      <td>5.019869</td>\n",
       "      <td>4.893738</td>\n",
       "      <td>...</td>\n",
       "      <td>7.18</td>\n",
       "      <td>8.07</td>\n",
       "      <td>8.09</td>\n",
       "      <td>9.53</td>\n",
       "      <td>5.48</td>\n",
       "      <td>8.75</td>\n",
       "      <td>9.30</td>\n",
       "      <td>7.54</td>\n",
       "      <td>9.16</td>\n",
       "      <td>6.74</td>\n",
       "    </tr>\n",
       "    <tr>\n",
       "      <td>1</td>\n",
       "      <td>1</td>\n",
       "      <td>0.000000</td>\n",
       "      <td>0.000000</td>\n",
       "      <td>5.327215</td>\n",
       "      <td>5.161014</td>\n",
       "      <td>4.851788</td>\n",
       "      <td>5.053549</td>\n",
       "      <td>5.361211</td>\n",
       "      <td>5.019869</td>\n",
       "      <td>4.893738</td>\n",
       "      <td>...</td>\n",
       "      <td>0.00</td>\n",
       "      <td>0.00</td>\n",
       "      <td>0.00</td>\n",
       "      <td>0.00</td>\n",
       "      <td>0.00</td>\n",
       "      <td>0.00</td>\n",
       "      <td>0.00</td>\n",
       "      <td>0.00</td>\n",
       "      <td>0.00</td>\n",
       "      <td>0.00</td>\n",
       "    </tr>\n",
       "    <tr>\n",
       "      <td>2</td>\n",
       "      <td>1</td>\n",
       "      <td>9.921390</td>\n",
       "      <td>6.822524</td>\n",
       "      <td>5.327215</td>\n",
       "      <td>5.161014</td>\n",
       "      <td>4.851788</td>\n",
       "      <td>5.053549</td>\n",
       "      <td>5.361211</td>\n",
       "      <td>5.019869</td>\n",
       "      <td>4.893738</td>\n",
       "      <td>...</td>\n",
       "      <td>10.95</td>\n",
       "      <td>17.95</td>\n",
       "      <td>17.83</td>\n",
       "      <td>17.31</td>\n",
       "      <td>21.44</td>\n",
       "      <td>19.09</td>\n",
       "      <td>18.56</td>\n",
       "      <td>16.25</td>\n",
       "      <td>14.20</td>\n",
       "      <td>13.66</td>\n",
       "    </tr>\n",
       "    <tr>\n",
       "      <td>3</td>\n",
       "      <td>1</td>\n",
       "      <td>14.612055</td>\n",
       "      <td>11.422513</td>\n",
       "      <td>5.327215</td>\n",
       "      <td>5.161014</td>\n",
       "      <td>4.851788</td>\n",
       "      <td>5.053549</td>\n",
       "      <td>5.361211</td>\n",
       "      <td>5.019869</td>\n",
       "      <td>4.893738</td>\n",
       "      <td>...</td>\n",
       "      <td>12.81</td>\n",
       "      <td>15.12</td>\n",
       "      <td>17.26</td>\n",
       "      <td>14.91</td>\n",
       "      <td>19.59</td>\n",
       "      <td>20.79</td>\n",
       "      <td>17.95</td>\n",
       "      <td>19.26</td>\n",
       "      <td>14.46</td>\n",
       "      <td>11.72</td>\n",
       "    </tr>\n",
       "    <tr>\n",
       "      <td>4</td>\n",
       "      <td>1</td>\n",
       "      <td>8.249738</td>\n",
       "      <td>5.942354</td>\n",
       "      <td>2.900000</td>\n",
       "      <td>5.640000</td>\n",
       "      <td>6.990000</td>\n",
       "      <td>3.320000</td>\n",
       "      <td>3.610000</td>\n",
       "      <td>5.350000</td>\n",
       "      <td>4.730000</td>\n",
       "      <td>...</td>\n",
       "      <td>14.21</td>\n",
       "      <td>10.22</td>\n",
       "      <td>8.47</td>\n",
       "      <td>6.11</td>\n",
       "      <td>6.10</td>\n",
       "      <td>6.73</td>\n",
       "      <td>7.52</td>\n",
       "      <td>10.89</td>\n",
       "      <td>9.86</td>\n",
       "      <td>8.72</td>\n",
       "    </tr>\n",
       "    <tr>\n",
       "      <td>...</td>\n",
       "      <td>...</td>\n",
       "      <td>...</td>\n",
       "      <td>...</td>\n",
       "      <td>...</td>\n",
       "      <td>...</td>\n",
       "      <td>...</td>\n",
       "      <td>...</td>\n",
       "      <td>...</td>\n",
       "      <td>...</td>\n",
       "      <td>...</td>\n",
       "      <td>...</td>\n",
       "      <td>...</td>\n",
       "      <td>...</td>\n",
       "      <td>...</td>\n",
       "      <td>...</td>\n",
       "      <td>...</td>\n",
       "      <td>...</td>\n",
       "      <td>...</td>\n",
       "      <td>...</td>\n",
       "      <td>...</td>\n",
       "      <td>...</td>\n",
       "    </tr>\n",
       "    <tr>\n",
       "      <td>39514</td>\n",
       "      <td>0</td>\n",
       "      <td>4.147203</td>\n",
       "      <td>1.583176</td>\n",
       "      <td>5.327215</td>\n",
       "      <td>5.161014</td>\n",
       "      <td>4.851788</td>\n",
       "      <td>5.053549</td>\n",
       "      <td>5.361211</td>\n",
       "      <td>5.019869</td>\n",
       "      <td>4.893738</td>\n",
       "      <td>...</td>\n",
       "      <td>3.27</td>\n",
       "      <td>3.10</td>\n",
       "      <td>2.75</td>\n",
       "      <td>3.01</td>\n",
       "      <td>2.99</td>\n",
       "      <td>2.83</td>\n",
       "      <td>2.54</td>\n",
       "      <td>3.40</td>\n",
       "      <td>3.59</td>\n",
       "      <td>2.54</td>\n",
       "    </tr>\n",
       "    <tr>\n",
       "      <td>39515</td>\n",
       "      <td>0</td>\n",
       "      <td>4.892765</td>\n",
       "      <td>1.581757</td>\n",
       "      <td>2.700000</td>\n",
       "      <td>0.000000</td>\n",
       "      <td>0.000000</td>\n",
       "      <td>5.720000</td>\n",
       "      <td>6.050000</td>\n",
       "      <td>5.810000</td>\n",
       "      <td>3.070000</td>\n",
       "      <td>...</td>\n",
       "      <td>3.84</td>\n",
       "      <td>6.62</td>\n",
       "      <td>3.12</td>\n",
       "      <td>5.16</td>\n",
       "      <td>3.62</td>\n",
       "      <td>4.64</td>\n",
       "      <td>3.71</td>\n",
       "      <td>6.22</td>\n",
       "      <td>6.05</td>\n",
       "      <td>4.77</td>\n",
       "    </tr>\n",
       "    <tr>\n",
       "      <td>39516</td>\n",
       "      <td>0</td>\n",
       "      <td>1.340594</td>\n",
       "      <td>1.880989</td>\n",
       "      <td>0.580000</td>\n",
       "      <td>1.160000</td>\n",
       "      <td>0.920000</td>\n",
       "      <td>0.980000</td>\n",
       "      <td>1.540000</td>\n",
       "      <td>1.380000</td>\n",
       "      <td>0.890000</td>\n",
       "      <td>...</td>\n",
       "      <td>0.99</td>\n",
       "      <td>0.61</td>\n",
       "      <td>0.65</td>\n",
       "      <td>0.55</td>\n",
       "      <td>0.49</td>\n",
       "      <td>0.51</td>\n",
       "      <td>0.79</td>\n",
       "      <td>0.66</td>\n",
       "      <td>0.39</td>\n",
       "      <td>0.65</td>\n",
       "    </tr>\n",
       "    <tr>\n",
       "      <td>39517</td>\n",
       "      <td>0</td>\n",
       "      <td>17.333685</td>\n",
       "      <td>6.776731</td>\n",
       "      <td>16.890000</td>\n",
       "      <td>15.150000</td>\n",
       "      <td>19.280000</td>\n",
       "      <td>17.190000</td>\n",
       "      <td>16.800000</td>\n",
       "      <td>17.480000</td>\n",
       "      <td>17.860000</td>\n",
       "      <td>...</td>\n",
       "      <td>15.64</td>\n",
       "      <td>16.48</td>\n",
       "      <td>13.04</td>\n",
       "      <td>10.39</td>\n",
       "      <td>12.00</td>\n",
       "      <td>11.15</td>\n",
       "      <td>12.22</td>\n",
       "      <td>13.16</td>\n",
       "      <td>13.33</td>\n",
       "      <td>10.39</td>\n",
       "    </tr>\n",
       "    <tr>\n",
       "      <td>39518</td>\n",
       "      <td>0</td>\n",
       "      <td>9.079836</td>\n",
       "      <td>4.286217</td>\n",
       "      <td>5.327215</td>\n",
       "      <td>5.161014</td>\n",
       "      <td>4.851788</td>\n",
       "      <td>5.053549</td>\n",
       "      <td>5.361211</td>\n",
       "      <td>5.019869</td>\n",
       "      <td>4.893738</td>\n",
       "      <td>...</td>\n",
       "      <td>10.56</td>\n",
       "      <td>17.14</td>\n",
       "      <td>8.35</td>\n",
       "      <td>8.68</td>\n",
       "      <td>6.39</td>\n",
       "      <td>7.96</td>\n",
       "      <td>8.13</td>\n",
       "      <td>11.50</td>\n",
       "      <td>7.16</td>\n",
       "      <td>5.25</td>\n",
       "    </tr>\n",
       "  </tbody>\n",
       "</table>\n",
       "<p>39519 rows × 1037 columns</p>\n",
       "</div>"
      ],
      "text/plain": [
       "       FLAG       MEAN        STD  2014-01-01 00:00:00  2014-01-02 00:00:00  \\\n",
       "0         1  13.898342   8.843958             5.327215             5.161014   \n",
       "1         1   0.000000   0.000000             5.327215             5.161014   \n",
       "2         1   9.921390   6.822524             5.327215             5.161014   \n",
       "3         1  14.612055  11.422513             5.327215             5.161014   \n",
       "4         1   8.249738   5.942354             2.900000             5.640000   \n",
       "...     ...        ...        ...                  ...                  ...   \n",
       "39514     0   4.147203   1.583176             5.327215             5.161014   \n",
       "39515     0   4.892765   1.581757             2.700000             0.000000   \n",
       "39516     0   1.340594   1.880989             0.580000             1.160000   \n",
       "39517     0  17.333685   6.776731            16.890000            15.150000   \n",
       "39518     0   9.079836   4.286217             5.327215             5.161014   \n",
       "\n",
       "       2014-01-03 00:00:00  2014-01-04 00:00:00  2014-01-05 00:00:00  \\\n",
       "0                 4.851788             5.053549             5.361211   \n",
       "1                 4.851788             5.053549             5.361211   \n",
       "2                 4.851788             5.053549             5.361211   \n",
       "3                 4.851788             5.053549             5.361211   \n",
       "4                 6.990000             3.320000             3.610000   \n",
       "...                    ...                  ...                  ...   \n",
       "39514             4.851788             5.053549             5.361211   \n",
       "39515             0.000000             5.720000             6.050000   \n",
       "39516             0.920000             0.980000             1.540000   \n",
       "39517            19.280000            17.190000            16.800000   \n",
       "39518             4.851788             5.053549             5.361211   \n",
       "\n",
       "       2014-01-06 00:00:00  2014-01-07 00:00:00  ...  2016-10-22 00:00:00  \\\n",
       "0                 5.019869             4.893738  ...                 7.18   \n",
       "1                 5.019869             4.893738  ...                 0.00   \n",
       "2                 5.019869             4.893738  ...                10.95   \n",
       "3                 5.019869             4.893738  ...                12.81   \n",
       "4                 5.350000             4.730000  ...                14.21   \n",
       "...                    ...                  ...  ...                  ...   \n",
       "39514             5.019869             4.893738  ...                 3.27   \n",
       "39515             5.810000             3.070000  ...                 3.84   \n",
       "39516             1.380000             0.890000  ...                 0.99   \n",
       "39517            17.480000            17.860000  ...                15.64   \n",
       "39518             5.019869             4.893738  ...                10.56   \n",
       "\n",
       "       2016-10-23 00:00:00  2016-10-24 00:00:00  2016-10-25 00:00:00  \\\n",
       "0                     8.07                 8.09                 9.53   \n",
       "1                     0.00                 0.00                 0.00   \n",
       "2                    17.95                17.83                17.31   \n",
       "3                    15.12                17.26                14.91   \n",
       "4                    10.22                 8.47                 6.11   \n",
       "...                    ...                  ...                  ...   \n",
       "39514                 3.10                 2.75                 3.01   \n",
       "39515                 6.62                 3.12                 5.16   \n",
       "39516                 0.61                 0.65                 0.55   \n",
       "39517                16.48                13.04                10.39   \n",
       "39518                17.14                 8.35                 8.68   \n",
       "\n",
       "       2016-10-26 00:00:00  2016-10-27 00:00:00  2016-10-28 00:00:00  \\\n",
       "0                     5.48                 8.75                 9.30   \n",
       "1                     0.00                 0.00                 0.00   \n",
       "2                    21.44                19.09                18.56   \n",
       "3                    19.59                20.79                17.95   \n",
       "4                     6.10                 6.73                 7.52   \n",
       "...                    ...                  ...                  ...   \n",
       "39514                 2.99                 2.83                 2.54   \n",
       "39515                 3.62                 4.64                 3.71   \n",
       "39516                 0.49                 0.51                 0.79   \n",
       "39517                12.00                11.15                12.22   \n",
       "39518                 6.39                 7.96                 8.13   \n",
       "\n",
       "       2016-10-29 00:00:00  2016-10-30 00:00:00  2016-10-31 00:00:00  \n",
       "0                     7.54                 9.16                 6.74  \n",
       "1                     0.00                 0.00                 0.00  \n",
       "2                    16.25                14.20                13.66  \n",
       "3                    19.26                14.46                11.72  \n",
       "4                    10.89                 9.86                 8.72  \n",
       "...                    ...                  ...                  ...  \n",
       "39514                 3.40                 3.59                 2.54  \n",
       "39515                 6.22                 6.05                 4.77  \n",
       "39516                 0.66                 0.39                 0.65  \n",
       "39517                13.16                13.33                10.39  \n",
       "39518                11.50                 7.16                 5.25  \n",
       "\n",
       "[39519 rows x 1037 columns]"
      ]
     },
     "execution_count": 2,
     "metadata": {},
     "output_type": "execute_result"
    }
   ],
   "source": [
    "china_mean_noOutliers = pd.read_csv('C:/Users/boont/Desktop/szakdoga/sorted_with_mean_std.csv')\n",
    "china_mean_noOutliers = china_mean_noOutliers.drop(['Unnamed: 0'], axis = 1)\n",
    "china_mean_noOutliers\n",
    "china_mean_noOutliers = china_mean_noOutliers.apply(lambda x: x.fillna(x.mean()),axis=0)\n",
    "china_mean_noOutliers"
   ]
  },
  {
   "cell_type": "code",
   "execution_count": 3,
   "metadata": {},
   "outputs": [],
   "source": [
    "X_full_mean_noOutliers = china_mean_noOutliers.drop(['FLAG'], axis = 1)\n",
    "Y_full_mean_noOutliers = china_mean_noOutliers['FLAG']\n",
    "X_data_full_mean_noOutliers = X_full_mean_noOutliers.values\n",
    "Y_data_full_mean_noOutliers = Y_full_mean_noOutliers.values"
   ]
  },
  {
   "cell_type": "code",
   "execution_count": 4,
   "metadata": {},
   "outputs": [],
   "source": [
    "X_train_full_mean_noOutliers, X_test_full_mean_noOutliers, Y_train_full_mean_noOutliers, Y_test_full_mean_noOutliers = train_test_split(X_full_mean_noOutliers, Y_full_mean_noOutliers, test_size = 0.2, random_state = 42)"
   ]
  },
  {
   "cell_type": "markdown",
   "metadata": {},
   "source": [
    "# default"
   ]
  },
  {
   "cell_type": "code",
   "execution_count": 5,
   "metadata": {},
   "outputs": [],
   "source": [
    "lrc_default = LogisticRegression(solver='lbfgs')"
   ]
  },
  {
   "cell_type": "code",
   "execution_count": 6,
   "metadata": {},
   "outputs": [
    {
     "name": "stderr",
     "output_type": "stream",
     "text": [
      "C:\\Users\\boont\\Anaconda3\\lib\\site-packages\\sklearn\\linear_model\\logistic.py:947: ConvergenceWarning: lbfgs failed to converge. Increase the number of iterations.\n",
      "  \"of iterations.\", ConvergenceWarning)\n"
     ]
    },
    {
     "name": "stdout",
     "output_type": "stream",
     "text": [
      "Training time: 6.559257507324219sec\n",
      "Accuracy: 0.9195344129554656\n",
      "Recall: 0.6081431649298685\n",
      "[[7104   78]\n",
      " [ 558  164]]\n",
      "              precision    recall  f1-score   support\n",
      "\n",
      "           0       0.93      0.99      0.96      7182\n",
      "           1       0.68      0.23      0.34       722\n",
      "\n",
      "    accuracy                           0.92      7904\n",
      "   macro avg       0.80      0.61      0.65      7904\n",
      "weighted avg       0.90      0.92      0.90      7904\n",
      "\n",
      "AUC: 0.7638850319087964\n"
     ]
    }
   ],
   "source": [
    "start = time.time()\n",
    "lrc_default.fit(X_train_full_mean_noOutliers,Y_train_full_mean_noOutliers)\n",
    "stop = time.time()\n",
    "print(f\"Training time: {stop - start}sec\")\n",
    "# predictions\n",
    "lrc_default_y_pred_full = lrc_default.predict(X_test_full_mean_noOutliers)\n",
    "print(f\"Accuracy: {accuracy_score(Y_test_full_mean_noOutliers, lrc_default_y_pred_full)}\")\n",
    "print(f\"Recall: {recall_score(Y_test_full_mean_noOutliers, lrc_default_y_pred_full, average='macro')}\")\n",
    "print(confusion_matrix(Y_test_full_mean_noOutliers, lrc_default_y_pred_full))\n",
    "print(classification_report(Y_test_full_mean_noOutliers, lrc_default_y_pred_full))\n",
    "print(f\"AUC: {roc_auc_score(Y_test_full_mean_noOutliers, lrc_default.predict_proba(X_test_full_mean_noOutliers)[:,1])}\")"
   ]
  },
  {
   "cell_type": "code",
   "execution_count": 7,
   "metadata": {},
   "outputs": [],
   "source": [
    "lrc_probs_default = lrc_default.predict_proba(X_test_full_mean_noOutliers)\n",
    "lrc_probs_default = lrc_probs_default[:,1]\n",
    "lrc_precision_default, lrc_recall_default, lrc_threshold_default = precision_recall_curve(Y_test_full_mean_noOutliers, lrc_probs_default)\n",
    "lrc_f1_default, lrc_auc_default = f1_score(Y_test_full_mean_noOutliers, lrc_default_y_pred_full), auc(lrc_recall_default, lrc_precision_default)"
   ]
  },
  {
   "cell_type": "markdown",
   "metadata": {},
   "source": [
    "# default smote"
   ]
  },
  {
   "cell_type": "code",
   "execution_count": 8,
   "metadata": {},
   "outputs": [
    {
     "name": "stdout",
     "output_type": "stream",
     "text": [
      "Before Counter({0: 28883, 1: 2732})\n",
      "After Counter({0: 28883, 1: 28883})\n",
      "Training time: 17.11623477935791sec\n",
      "Current memory usage is 504.217741MB; Peak was 983.10695MB\n"
     ]
    }
   ],
   "source": [
    "tracemalloc.start()\n",
    "start = time.time()\n",
    "counter = Counter(Y_train_full_mean_noOutliers)\n",
    "print('Before', counter)\n",
    "smt = SMOTE()\n",
    "\n",
    "X_train_oversampled_sm_full, Y_train_sm_full = smt.fit_resample(X_train_full_mean_noOutliers, Y_train_full_mean_noOutliers)\n",
    "X_train_sm_full = pd.DataFrame(X_train_oversampled_sm_full, columns=X_train_full_mean_noOutliers.columns)\n",
    "\n",
    "counter = Counter(Y_train_sm_full)\n",
    "print('After', counter)\n",
    "stop = time.time()\n",
    "print(f\"Training time: {stop - start}sec\")\n",
    "\n",
    "current, peak = tracemalloc.get_traced_memory()\n",
    "print(f\"Current memory usage is {current / 10**6}MB; Peak was {peak / 10**6}MB\")\n",
    "tracemalloc.stop()"
   ]
  },
  {
   "cell_type": "code",
   "execution_count": 9,
   "metadata": {},
   "outputs": [
    {
     "name": "stdout",
     "output_type": "stream",
     "text": [
      "Training time: 9.070825815200806sec\n",
      "Current memory usage is 0.165663MB; Peak was 3.295402MB\n"
     ]
    },
    {
     "name": "stderr",
     "output_type": "stream",
     "text": [
      "C:\\Users\\boont\\Anaconda3\\lib\\site-packages\\sklearn\\linear_model\\logistic.py:947: ConvergenceWarning: lbfgs failed to converge. Increase the number of iterations.\n",
      "  \"of iterations.\", ConvergenceWarning)\n"
     ]
    }
   ],
   "source": [
    "tracemalloc.start()\n",
    "\n",
    "start = time.time()\n",
    "lrc_default.fit(X_train_sm_full,Y_train_sm_full)\n",
    "stop = time.time()\n",
    "print(f\"Training time: {stop - start}sec\")\n",
    "\n",
    "current, peak = tracemalloc.get_traced_memory()\n",
    "print(f\"Current memory usage is {current / 10**6}MB; Peak was {peak / 10**6}MB\")\n",
    "tracemalloc.stop()"
   ]
  },
  {
   "cell_type": "code",
   "execution_count": 10,
   "metadata": {},
   "outputs": [
    {
     "name": "stdout",
     "output_type": "stream",
     "text": [
      "Accuracy: 0.771255060728745\n",
      "Recall: 0.6791613536765891\n",
      "[[5687 1495]\n",
      " [ 313  409]]\n",
      "              precision    recall  f1-score   support\n",
      "\n",
      "           0       0.95      0.79      0.86      7182\n",
      "           1       0.21      0.57      0.31       722\n",
      "\n",
      "    accuracy                           0.77      7904\n",
      "   macro avg       0.58      0.68      0.59      7904\n",
      "weighted avg       0.88      0.77      0.81      7904\n",
      "\n",
      "AUC: 0.7416684408775093\n"
     ]
    }
   ],
   "source": [
    "# predictions\n",
    "lrc_default_y_pred_sm_full = lrc_default.predict(X_test_full_mean_noOutliers)\n",
    "print(f\"Accuracy: {accuracy_score(Y_test_full_mean_noOutliers, lrc_default_y_pred_sm_full)}\")\n",
    "print(f\"Recall: {recall_score(Y_test_full_mean_noOutliers, lrc_default_y_pred_sm_full, average='macro')}\")\n",
    "print(confusion_matrix(Y_test_full_mean_noOutliers, lrc_default_y_pred_sm_full))\n",
    "print(classification_report(Y_test_full_mean_noOutliers, lrc_default_y_pred_sm_full))\n",
    "print(f\"AUC: {roc_auc_score(Y_test_full_mean_noOutliers, lrc_default.predict_proba(X_test_full_mean_noOutliers)[:,1])}\")"
   ]
  },
  {
   "cell_type": "code",
   "execution_count": 11,
   "metadata": {},
   "outputs": [],
   "source": [
    "lrc_probs_default_smt = lrc_default.predict_proba(X_test_full_mean_noOutliers)\n",
    "lrc_probs_default_smt = lrc_probs_default_smt[:,1]\n",
    "lrc_precision_default_smt, lrc_recall_default_smt, lrc_threshold_default_smt = precision_recall_curve(Y_test_full_mean_noOutliers, lrc_probs_default_smt)\n",
    "lrc_f1_default_smt, lrc_auc_default_smt = f1_score(Y_test_full_mean_noOutliers, lrc_default_y_pred_sm_full), auc(lrc_recall_default_smt, lrc_precision_default_smt)"
   ]
  },
  {
   "cell_type": "markdown",
   "metadata": {},
   "source": [
    "# tuned"
   ]
  },
  {
   "cell_type": "code",
   "execution_count": 12,
   "metadata": {},
   "outputs": [],
   "source": [
    "lrc_tuned = LogisticRegression(solver='lbfgs', class_weight = 'balanced', max_iter = 50)"
   ]
  },
  {
   "cell_type": "code",
   "execution_count": 13,
   "metadata": {},
   "outputs": [
    {
     "name": "stdout",
     "output_type": "stream",
     "text": [
      "Training time: 2.80639910697937sec\n",
      "Accuracy: 0.7890941295546559\n",
      "Recall: 0.6889775608612174\n",
      "[[5828 1354]\n",
      " [ 313  409]]\n",
      "              precision    recall  f1-score   support\n",
      "\n",
      "           0       0.95      0.81      0.87      7182\n",
      "           1       0.23      0.57      0.33       722\n",
      "\n",
      "    accuracy                           0.79      7904\n",
      "   macro avg       0.59      0.69      0.60      7904\n",
      "weighted avg       0.88      0.79      0.83      7904\n",
      "\n",
      "AUC: 0.7545632895720372\n"
     ]
    },
    {
     "name": "stderr",
     "output_type": "stream",
     "text": [
      "C:\\Users\\boont\\Anaconda3\\lib\\site-packages\\sklearn\\linear_model\\logistic.py:947: ConvergenceWarning: lbfgs failed to converge. Increase the number of iterations.\n",
      "  \"of iterations.\", ConvergenceWarning)\n"
     ]
    }
   ],
   "source": [
    "start = time.time()\n",
    "lrc_tuned.fit(X_train_full_mean_noOutliers,Y_train_full_mean_noOutliers)\n",
    "stop = time.time()\n",
    "print(f\"Training time: {stop - start}sec\")\n",
    "# predictions\n",
    "lrc_tuned_y_pred_full = lrc_tuned.predict(X_test_full_mean_noOutliers)\n",
    "print(f\"Accuracy: {accuracy_score(Y_test_full_mean_noOutliers, lrc_tuned_y_pred_full)}\")\n",
    "print(f\"Recall: {recall_score(Y_test_full_mean_noOutliers, lrc_tuned_y_pred_full, average='macro')}\")\n",
    "print(confusion_matrix(Y_test_full_mean_noOutliers, lrc_tuned_y_pred_full))\n",
    "print(classification_report(Y_test_full_mean_noOutliers, lrc_tuned_y_pred_full))\n",
    "print(f\"AUC: {roc_auc_score(Y_test_full_mean_noOutliers, lrc_tuned.predict_proba(X_test_full_mean_noOutliers)[:,1])}\")"
   ]
  },
  {
   "cell_type": "code",
   "execution_count": 14,
   "metadata": {},
   "outputs": [],
   "source": [
    "lrc_probs_tuned = lrc_tuned.predict_proba(X_test_full_mean_noOutliers)\n",
    "lrc_probs_tuned = lrc_probs_tuned[:,1]\n",
    "lrc_precision_tuned, lrc_recall_tuned, lrc_threshold_tuned = precision_recall_curve(Y_test_full_mean_noOutliers, lrc_probs_tuned)\n",
    "lrc_f1_tuned, lrc_auc_tuned = f1_score(Y_test_full_mean_noOutliers, lrc_tuned_y_pred_full), auc(lrc_recall_tuned, lrc_precision_tuned)"
   ]
  },
  {
   "cell_type": "markdown",
   "metadata": {},
   "source": [
    "# tuned smote"
   ]
  },
  {
   "cell_type": "code",
   "execution_count": 15,
   "metadata": {},
   "outputs": [
    {
     "name": "stdout",
     "output_type": "stream",
     "text": [
      "Training time: 4.859227180480957sec\n",
      "Current memory usage is 0.165118MB; Peak was 3.203536MB\n"
     ]
    },
    {
     "name": "stderr",
     "output_type": "stream",
     "text": [
      "C:\\Users\\boont\\Anaconda3\\lib\\site-packages\\sklearn\\linear_model\\logistic.py:947: ConvergenceWarning: lbfgs failed to converge. Increase the number of iterations.\n",
      "  \"of iterations.\", ConvergenceWarning)\n"
     ]
    }
   ],
   "source": [
    "tracemalloc.start()\n",
    "\n",
    "start = time.time()\n",
    "lrc_tuned.fit(X_train_sm_full,Y_train_sm_full)\n",
    "stop = time.time()\n",
    "print(f\"Training time: {stop - start}sec\")\n",
    "\n",
    "current, peak = tracemalloc.get_traced_memory()\n",
    "print(f\"Current memory usage is {current / 10**6}MB; Peak was {peak / 10**6}MB\")\n",
    "tracemalloc.stop()"
   ]
  },
  {
   "cell_type": "code",
   "execution_count": 16,
   "metadata": {},
   "outputs": [
    {
     "name": "stdout",
     "output_type": "stream",
     "text": [
      "Accuracy: 0.770242914979757\n",
      "Recall: 0.6817189171759809\n",
      "[[5674 1508]\n",
      " [ 308  414]]\n",
      "              precision    recall  f1-score   support\n",
      "\n",
      "           0       0.95      0.79      0.86      7182\n",
      "           1       0.22      0.57      0.31       722\n",
      "\n",
      "    accuracy                           0.77      7904\n",
      "   macro avg       0.58      0.68      0.59      7904\n",
      "weighted avg       0.88      0.77      0.81      7904\n",
      "\n",
      "AUC: 0.7363861137917123\n"
     ]
    }
   ],
   "source": [
    "# predictions\n",
    "lrc_tuned_y_pred_sm_full = lrc_tuned.predict(X_test_full_mean_noOutliers)\n",
    "print(f\"Accuracy: {accuracy_score(Y_test_full_mean_noOutliers, lrc_tuned_y_pred_sm_full)}\")\n",
    "print(f\"Recall: {recall_score(Y_test_full_mean_noOutliers, lrc_tuned_y_pred_sm_full, average='macro')}\")\n",
    "print(confusion_matrix(Y_test_full_mean_noOutliers, lrc_tuned_y_pred_sm_full))\n",
    "print(classification_report(Y_test_full_mean_noOutliers, lrc_tuned_y_pred_sm_full))\n",
    "print(f\"AUC: {roc_auc_score(Y_test_full_mean_noOutliers, lrc_tuned.predict_proba(X_test_full_mean_noOutliers)[:,1])}\")"
   ]
  },
  {
   "cell_type": "code",
   "execution_count": 17,
   "metadata": {},
   "outputs": [],
   "source": [
    "lrc_probs_tuned_smt = lrc_tuned.predict_proba(X_test_full_mean_noOutliers)\n",
    "lrc_probs_tuned_smt = lrc_probs_tuned_smt[:,1]\n",
    "lrc_precision_tuned_smt, lrc_recall_tuned_smt, lrc_threshold_tuned_smt = precision_recall_curve(Y_test_full_mean_noOutliers, lrc_probs_tuned_smt)\n",
    "lrc_f1_tuned_smt, lrc_auc_tuned_smt = f1_score(Y_test_full_mean_noOutliers, lrc_tuned_y_pred_sm_full), auc(lrc_recall_tuned_smt, lrc_precision_tuned_smt)"
   ]
  },
  {
   "cell_type": "code",
   "execution_count": 18,
   "metadata": {},
   "outputs": [
    {
     "data": {
      "text/plain": [
       "<matplotlib.legend.Legend at 0x164841a2c88>"
      ]
     },
     "execution_count": 18,
     "metadata": {},
     "output_type": "execute_result"
    },
    {
     "data": {
      "image/png": "[encoded data removed]",
      "text/plain": [
       "<Figure size 540x360 with 1 Axes>"
      ]
     },
     "metadata": {
      "needs_background": "light"
     },
     "output_type": "display_data"
    }
   ],
   "source": [
    "fig, ax = plt.subplots(figsize=(7.5,5))\n",
    "ax.set_title('Logistic Regression PR-curves')\n",
    "ax.plot(lrc_recall_default, lrc_precision_default, color='forestgreen', label='default')\n",
    "ax.plot(lrc_recall_default_smt, lrc_precision_default_smt, color='navy', label='default + SMOTE')\n",
    "ax.plot(lrc_recall_tuned, lrc_precision_tuned, color='red', label='tuned')\n",
    "ax.plot(lrc_recall_tuned_smt, lrc_precision_tuned_smt, color='orange', label='tuned + SMOTE')\n",
    "ax.set(xlabel='Recall', ylabel='Precision')\n",
    "ax.legend()"
   ]
  }
 ],
 "metadata": {
  "kernelspec": {
   "display_name": "Python 3",
   "language": "python",
   "name": "python3"
  },
  "language_info": {
   "codemirror_mode": {
    "name": "ipython",
    "version": 3
   },
   "file_extension": ".py",
   "mimetype": "text/x-python",
   "name": "python",
   "nbconvert_exporter": "python",
   "pygments_lexer": "ipython3",
   "version": "3.7.4"
  }
 },
 "nbformat": 4,
 "nbformat_minor": 2
}
